{
  "cells": [
    {
      "cell_type": "markdown",
      "metadata": {
        "id": "34Hf0T4n9laZ"
      },
      "source": [
        "Install packages\n"
      ]
    },
    {
      "cell_type": "code",
      "execution_count": null,
      "metadata": {
        "colab": {
          "base_uri": "https://localhost:8080/"
        },
        "id": "KmfTa_ai8r4K",
        "outputId": "29748ab9-c001-4c2e-c283-b7c20d651ec1"
      },
      "outputs": [],
      "source": [
        "pip3 install -i https://test.pypi.org/simple/ WDLMerge==0.1.0"
      ]
    },
    {
      "cell_type": "code",
      "execution_count": 2,
      "metadata": {
        "colab": {
          "base_uri": "https://localhost:8080/"
        },
        "id": "PzT-6-_48tSx",
        "outputId": "ddeee144-0522-4c44-f5b9-85cf88361a75"
      },
      "outputs": [
        {
          "name": "stdout",
          "output_type": "stream",
          "text": [
            "Looking in indexes: https://pypi.org/simple, https://us-python.pkg.dev/colab-wheels/public/simple/\n",
            "Collecting miniwdl\n",
            "  Downloading miniwdl-1.9.1-py3-none-any.whl (189 kB)\n",
            "\u001b[2K     \u001b[90m━━━━━━━━━━━━━━━━━━━━━━━━━━━━━━━━━━━━━━\u001b[0m \u001b[32m189.1/189.1 kB\u001b[0m \u001b[31m10.2 MB/s\u001b[0m eta \u001b[36m0:00:00\u001b[0m\n",
            "\u001b[?25hRequirement already satisfied: setuptools>=39.1.0 in /usr/local/lib/python3.10/dist-packages (from miniwdl) (67.7.2)\n",
            "Collecting importlib-metadata>=3.10.1 (from miniwdl)\n",
            "  Downloading importlib_metadata-6.6.0-py3-none-any.whl (22 kB)\n",
            "Requirement already satisfied: regex>=2020.4.4 in /usr/local/lib/python3.10/dist-packages (from miniwdl) (2022.10.31)\n",
            "Collecting xdg>=2.0.0 (from miniwdl)\n",
            "  Downloading xdg-6.0.0-py3-none-any.whl (3.9 kB)\n",
            "Collecting docker>=3.4.0 (from miniwdl)\n",
            "  Downloading docker-6.1.2-py3-none-any.whl (148 kB)\n",
            "\u001b[2K     \u001b[90m━━━━━━━━━━━━━━━━━━━━━━━━━━━━━━━━━━━━━━\u001b[0m \u001b[32m148.1/148.1 kB\u001b[0m \u001b[31m10.6 MB/s\u001b[0m eta \u001b[36m0:00:00\u001b[0m\n",
            "\u001b[?25hRequirement already satisfied: PyYAML<7,>=5.4.1 in /usr/local/lib/python3.10/dist-packages (from miniwdl) (6.0)\n",
            "Collecting argcomplete~=1.12 (from miniwdl)\n",
            "  Downloading argcomplete-1.12.3-py2.py3-none-any.whl (38 kB)\n",
            "Collecting pygtail~=0.11 (from miniwdl)\n",
            "  Downloading pygtail-0.14.0-py3-none-any.whl (14 kB)\n",
            "Collecting coloredlogs>=11.0 (from miniwdl)\n",
            "  Downloading coloredlogs-15.0.1-py2.py3-none-any.whl (46 kB)\n",
            "\u001b[2K     \u001b[90m━━━━━━━━━━━━━━━━━━━━━━━━━━━━━━━━━━━━━━━━\u001b[0m \u001b[32m46.0/46.0 kB\u001b[0m \u001b[31m3.8 MB/s\u001b[0m eta \u001b[36m0:00:00\u001b[0m\n",
            "\u001b[?25hCollecting python-json-logger~=2.0 (from miniwdl)\n",
            "  Downloading python_json_logger-2.0.7-py3-none-any.whl (8.1 kB)\n",
            "Collecting lark~=1.1 (from miniwdl)\n",
            "  Downloading lark-1.1.5-py3-none-any.whl (107 kB)\n",
            "\u001b[2K     \u001b[90m━━━━━━━━━━━━━━━━━━━━━━━━━━━━━━━━━━━━━━━\u001b[0m \u001b[32m108.0/108.0 kB\u001b[0m \u001b[31m6.1 MB/s\u001b[0m eta \u001b[36m0:00:00\u001b[0m\n",
            "\u001b[?25hCollecting bullet~=2.2 (from miniwdl)\n",
            "  Downloading bullet-2.2.0-py3-none-any.whl (10 kB)\n",
            "Requirement already satisfied: psutil>=5.8.0 in /usr/local/lib/python3.10/dist-packages (from miniwdl) (5.9.5)\n",
            "Collecting humanfriendly>=9.1 (from coloredlogs>=11.0->miniwdl)\n",
            "  Downloading humanfriendly-10.0-py2.py3-none-any.whl (86 kB)\n",
            "\u001b[2K     \u001b[90m━━━━━━━━━━━━━━━━━━━━━━━━━━━━━━━━━━━━━━━━\u001b[0m \u001b[32m86.8/86.8 kB\u001b[0m \u001b[31m1.7 MB/s\u001b[0m eta \u001b[36m0:00:00\u001b[0m\n",
            "\u001b[?25hRequirement already satisfied: packaging>=14.0 in /usr/local/lib/python3.10/dist-packages (from docker>=3.4.0->miniwdl) (23.1)\n",
            "Requirement already satisfied: requests>=2.26.0 in /usr/local/lib/python3.10/dist-packages (from docker>=3.4.0->miniwdl) (2.27.1)\n",
            "Requirement already satisfied: urllib3>=1.26.0 in /usr/local/lib/python3.10/dist-packages (from docker>=3.4.0->miniwdl) (1.26.15)\n",
            "Requirement already satisfied: websocket-client>=0.32.0 in /usr/local/lib/python3.10/dist-packages (from docker>=3.4.0->miniwdl) (1.5.1)\n",
            "Requirement already satisfied: zipp>=0.5 in /usr/local/lib/python3.10/dist-packages (from importlib-metadata>=3.10.1->miniwdl) (3.15.0)\n",
            "Requirement already satisfied: certifi>=2017.4.17 in /usr/local/lib/python3.10/dist-packages (from requests>=2.26.0->docker>=3.4.0->miniwdl) (2022.12.7)\n",
            "Requirement already satisfied: charset-normalizer~=2.0.0 in /usr/local/lib/python3.10/dist-packages (from requests>=2.26.0->docker>=3.4.0->miniwdl) (2.0.12)\n",
            "Requirement already satisfied: idna<4,>=2.5 in /usr/local/lib/python3.10/dist-packages (from requests>=2.26.0->docker>=3.4.0->miniwdl) (3.4)\n",
            "Installing collected packages: pygtail, lark, bullet, argcomplete, xdg, python-json-logger, importlib-metadata, humanfriendly, docker, coloredlogs, miniwdl\n",
            "Successfully installed argcomplete-1.12.3 bullet-2.2.0 coloredlogs-15.0.1 docker-6.1.2 humanfriendly-10.0 importlib-metadata-6.6.0 lark-1.1.5 miniwdl-1.9.1 pygtail-0.14.0 python-json-logger-2.0.7 xdg-6.0.0\n"
          ]
        }
      ],
      "source": [
        "!pip install miniwdl"
      ]
    },
    {
      "cell_type": "markdown",
      "metadata": {
        "id": "8L9TlA_h9qCv"
      },
      "source": [
        "Import modules"
      ]
    },
    {
      "cell_type": "code",
      "execution_count": 5,
      "metadata": {
        "id": "VnGkAEUT8uML"
      },
      "outputs": [],
      "source": [
        "from WDLMerge import *\n",
        "import WDL\n",
        "import asyncio\n",
        "import nest_asyncio\n",
        "import WDL\n",
        "\n",
        "# Allow nested event loops in Jupyter notebook\n",
        "nest_asyncio.apply()"
      ]
    },
    {
      "cell_type": "markdown",
      "metadata": {
        "id": "DpFaq1T39KE3"
      },
      "source": [
        "Merge WDLs"
      ]
    },
    {
      "cell_type": "code",
      "execution_count": 8,
      "metadata": {
        "colab": {
          "base_uri": "https://localhost:8080/"
        },
        "id": "bud4YCNI80gs",
        "outputId": "e8d34823-e797-458a-dda5-7a004db59c2c"
      },
      "outputs": [
        {
          "name": "stdout",
          "output_type": "stream",
          "text": [
            "task sum {\n",
            "    input {\n",
            "        Int x\n",
            "        Int y\n",
            "    }\n",
            "    command {\n",
            "        \n",
            "            echo $(( ~{x} + ~{y} ))\n",
            "        \n",
            "    }\n",
            "    output {\n",
            "        Int z = read_int(stdout())\n",
            "    }\n",
            "}\n",
            "\n",
            "task greet {\n",
            "    input {\n",
            "        String name\n",
            "    }\n",
            "    command {\n",
            "        \n",
            "    echo \"Hello, ~{name}!\"\n",
            "  \n",
            "    }\n",
            "    output {\n",
            "        String greeting = read_string(stdout())\n",
            "    }\n",
            "}\n",
            "\n",
            "workflow CombinedWorkflow {\n",
            "    input {\n",
            "        String person\n",
            "    }\n",
            "    output {\n",
            "        String finalGreeting = greet.greeting\n",
            "    }\n",
            "    call sum as sum1 {\n",
            "        input:\n",
            "            x = 1\n",
            "            y = 2\n",
            "    }\n",
            "    Int twice = 2 * sum1.z  \n",
            "    call sum as sum2 {\n",
            "        input:\n",
            "            x = sum1.z\n",
            "            y = twice\n",
            "    }\n",
            "    call greet as greet {\n",
            "        input:\n",
            "            name = person\n",
            "    }\n",
            "}\n",
            "\n"
          ]
        }
      ],
      "source": [
        "wdl=merge_wdls(WDLs=[\"WDL_1.wdl\", \"WDL_2.wdl\"])"
      ]
    },
    {
      "cell_type": "markdown",
      "metadata": {
        "id": "2ynlU46s9LGR"
      },
      "source": [
        "Validate WDLs"
      ]
    },
    {
      "cell_type": "code",
      "execution_count": 9,
      "metadata": {
        "colab": {
          "base_uri": "https://localhost:8080/"
        },
        "id": "X2jjAI2S84Tf",
        "outputId": "b0b02ef4-2ac3-486f-8c47-fd0e2f2b0b8c"
      },
      "outputs": [
        {
          "name": "stdout",
          "output_type": "stream",
          "text": [
            "Success!\n",
            "\n",
            "\n"
          ]
        }
      ],
      "source": [
        "validate_wdl('WDL_1.wdl')"
      ]
    },
    {
      "cell_type": "markdown",
      "metadata": {
        "id": "9q-EcTTx9PAF"
      },
      "source": [
        "Upgrade WDLs"
      ]
    },
    {
      "cell_type": "code",
      "execution_count": 11,
      "metadata": {
        "colab": {
          "base_uri": "https://localhost:8080/"
        },
        "id": "9BZ5AlkB9TU-",
        "outputId": "a8f5bf24-bdd7-4fc5-ade0-122800fc3507"
      },
      "outputs": [
        {
          "name": "stdout",
          "output_type": "stream",
          "text": [
            "--2023-05-15 01:10:47--  https://raw.githubusercontent.com/gatk-workflows/gatk4-germline-snps-indels/1.1.2/joint-discovery-gatk4-local.wdl\n",
            "Resolving raw.githubusercontent.com (raw.githubusercontent.com)... 185.199.108.133, 185.199.111.133, 185.199.110.133, ...\n",
            "Connecting to raw.githubusercontent.com (raw.githubusercontent.com)|185.199.108.133|:443... connected.\n",
            "HTTP request sent, awaiting response... 200 OK\n",
            "Length: 31410 (31K) [text/plain]\n",
            "Saving to: ‘joint-discovery-gatk4-local.wdl’\n",
            "\n",
            "\r          joint-dis   0%[                    ]       0  --.-KB/s               \rjoint-discovery-gat 100%[===================>]  30.67K  --.-KB/s    in 0s      \n",
            "\n",
            "2023-05-15 01:10:47 (115 MB/s) - ‘joint-discovery-gatk4-local.wdl’ saved [31410/31410]\n",
            "\n"
          ]
        }
      ],
      "source": [
        "!wget https://raw.githubusercontent.com/gatk-workflows/gatk4-germline-snps-indels/1.1.2/joint-discovery-gatk4-local.wdl"
      ]
    },
    {
      "cell_type": "code",
      "execution_count": 12,
      "metadata": {
        "colab": {
          "base_uri": "https://localhost:8080/"
        },
        "id": "3bv4Slw19ODv",
        "outputId": "79de9839-4196-4836-c4ae-9389cca1f999"
      },
      "outputs": [
        {
          "name": "stdout",
          "output_type": "stream",
          "text": [
            "None\n",
            "None\n"
          ]
        }
      ],
      "source": [
        "upgrade_wdl('joint-discovery-gatk4-local.wdl')"
      ]
    },
    {
      "cell_type": "code",
      "execution_count": null,
      "metadata": {
        "id": "dMflZkzH9ReD"
      },
      "outputs": [],
      "source": []
    }
  ],
  "metadata": {
    "colab": {
      "provenance": []
    },
    "kernelspec": {
      "display_name": "Python 3",
      "language": "python",
      "name": "python3"
    },
    "language_info": {
      "name": "python",
      "version": "3.11.1"
    },
    "vscode": {
      "interpreter": {
        "hash": "aee8b7b246df8f9039afb4144a1f6fd8d2ca17a180786b69acc140d282b71a49"
      }
    }
  },
  "nbformat": 4,
  "nbformat_minor": 0
}
